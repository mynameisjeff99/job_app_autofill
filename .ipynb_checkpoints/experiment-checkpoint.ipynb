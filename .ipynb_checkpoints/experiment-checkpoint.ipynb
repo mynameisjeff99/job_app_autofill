{
 "cells": [
  {
   "cell_type": "code",
   "execution_count": 1,
   "id": "d14d6405",
   "metadata": {},
   "outputs": [],
   "source": [
    "import csv\n",
    "import re\n",
    "from webdriver_manager.chrome import ChromeDriverManager\n",
    "from selenium import webdriver\n",
    "from selenium.webdriver.common.by import By\n",
    "from selenium.webdriver.chrome.service import Service\n",
    "from selenium.webdriver.chrome.options import Options\n",
    "from selenium.webdriver.support.ui import WebDriverWait\n",
    "from selenium.webdriver.support.select import Select\n",
    "from selenium.webdriver.support import expected_conditions as EC\n",
    "from selenium.webdriver.common.action_chains import ActionChains"
   ]
  },
  {
   "cell_type": "markdown",
   "id": "716d9978",
   "metadata": {},
   "source": [
    "# Functions"
   ]
  },
  {
   "cell_type": "markdown",
   "id": "9aec3ab3",
   "metadata": {},
   "source": [
    "## Common"
   ]
  },
  {
   "cell_type": "code",
   "execution_count": 2,
   "id": "121730aa",
   "metadata": {},
   "outputs": [],
   "source": [
    "user_agent = (\"user-agent=Mozilla/5.0 (Macintosh; Intel Mac OS X 10_15_4) \"\n",
    "              \"AppleWebKit/537.36 (KHTML, like Gecko) Chrome/\"\n",
    "              \"83.0.4103.97 Safari/537.36\")\n",
    "\n",
    "def get_driver():\n",
    "    opts = Options()\n",
    "    opts.add_argument(user_agent)\n",
    "    opts.add_argument(\"start-maximized\")\n",
    "    driver = webdriver.Chrome(service=Service(ChromeDriverManager().install()), options=opts)\n",
    "    return driver"
   ]
  },
  {
   "cell_type": "code",
   "execution_count": 3,
   "id": "f059f173",
   "metadata": {},
   "outputs": [],
   "source": [
    "def get_label_sibling(web_element):\n",
    "    label = \"\"\n",
    "    while label == \"\":\n",
    "        web_element = web_element.find_element(By.XPATH, \"preceding-sibling::*\")\n",
    "        label = re.sub(r'[^A-Za-z0-9 ]+', '', web_element.get_attribute(\"innerText\")).strip().lower()\n",
    "    return label"
   ]
  },
  {
   "cell_type": "code",
   "execution_count": 4,
   "id": "03b31e49",
   "metadata": {},
   "outputs": [],
   "source": [
    "def get_label_parent(web_element):\n",
    "    web_element = web_element.find_element(By.XPATH, \"parent::*\")\n",
    "    label = re.sub(r'[^A-Za-z0-9 ]+', '', web_element.get_attribute(\"innerText\")).strip().lower()\n",
    "    return label"
   ]
  },
  {
   "cell_type": "code",
   "execution_count": 53,
   "id": "af337e09",
   "metadata": {},
   "outputs": [],
   "source": [
    "def get_label_parent_sibling(web_element):\n",
    "    web_element = web_element.find_element(By.XPATH, \"parent::*\")\n",
    "    web_element = web_element.find_element(By.XPATH, \"preceding-sibling::*\")\n",
    "    children = web_element.find_elements(By.XPATH, \".//*\")\n",
    "    if len(children) < 2:\n",
    "        try:\n",
    "            return re.sub(r'[^A-Za-z0-9 ]+', '', web_element.get_attribute(\"innerText\")).strip().lower()\n",
    "        except:\n",
    "            pass\n",
    "    else:\n",
    "        for child in children:\n",
    "            try:\n",
    "                label = re.sub(r'[^A-Za-z0-9 ]+', '', child.get_attribute(\"innerText\")).strip().lower()\n",
    "                if label != \"\":\n",
    "                    return label\n",
    "            except:\n",
    "                pass\n",
    "        \n",
    "    return \"\""
   ]
  },
  {
   "cell_type": "code",
   "execution_count": 6,
   "id": "bc7cb251",
   "metadata": {},
   "outputs": [],
   "source": [
    "def get_label(web_element):\n",
    "    label = \"\"\n",
    "    try:\n",
    "        label = get_label_sibling(web_element)\n",
    "        if label != \"\":\n",
    "            return label\n",
    "    except:\n",
    "        pass\n",
    "    \n",
    "    try:\n",
    "        label = get_label_parent(web_element)\n",
    "        if label != \"\":\n",
    "            return label\n",
    "    except:\n",
    "        pass\n",
    "    \n",
    "    try:\n",
    "        label = get_label_parent_sibling(web_element)\n",
    "        if label != \"\":\n",
    "            return label\n",
    "    except:\n",
    "        pass\n",
    "        \n",
    "    return label"
   ]
  },
  {
   "cell_type": "code",
   "execution_count": 7,
   "id": "382afb70",
   "metadata": {},
   "outputs": [],
   "source": [
    "def highlight(driver, element, color='yellow'):\n",
    "    driver.execute_script(f\"arguments[0].setAttribute('style', 'background: {color}; border: 2px solid red;');\", element)"
   ]
  },
  {
   "cell_type": "code",
   "execution_count": 8,
   "id": "9e6e38f3",
   "metadata": {},
   "outputs": [],
   "source": [
    "def unhighlight(driver, element):\n",
    "    driver.execute_script(\"arguments[0].setAttribute('style','')\", element)"
   ]
  },
  {
   "cell_type": "markdown",
   "id": "3fe99323",
   "metadata": {},
   "source": [
    "## Input"
   ]
  },
  {
   "cell_type": "code",
   "execution_count": 34,
   "id": "0fce59b2",
   "metadata": {},
   "outputs": [],
   "source": [
    "def get_input_elements(driver):\n",
    "    in_elements = driver.find_elements(By.XPATH, \"//input[@type='email' or @type='password' or @type='text']\")\n",
    "    for elem in in_elements:\n",
    "        if not elem.get_attribute(\"aria-required\") and not elem.get_attribute(\"required\"):\n",
    "            in_elements.remove(elem)\n",
    "    return in_elements"
   ]
  },
  {
   "cell_type": "markdown",
   "id": "fbe5a4e0",
   "metadata": {},
   "source": [
    "## Select"
   ]
  },
  {
   "cell_type": "code",
   "execution_count": 10,
   "id": "1f9fb5c5",
   "metadata": {},
   "outputs": [],
   "source": [
    "def get_select_elements(driver):\n",
    "    select_elements = driver.find_elements(By.XPATH, \"//select\")\n",
    "    return select_elements"
   ]
  },
  {
   "cell_type": "code",
   "execution_count": 21,
   "id": "f1a808ca",
   "metadata": {},
   "outputs": [],
   "source": [
    "def get_options(web_element):\n",
    "    select = Select(web_element)\n",
    "    options = select.options\n",
    "    options_text = []\n",
    "    for option in options:\n",
    "        options_text.append(option.get_attribute(\"innerText\").lower())\n",
    "    return options_text"
   ]
  },
  {
   "cell_type": "markdown",
   "id": "af482761",
   "metadata": {},
   "source": [
    "# Driver method"
   ]
  },
  {
   "cell_type": "code",
   "execution_count": 19,
   "id": "383e8613",
   "metadata": {},
   "outputs": [],
   "source": [
    "def autofill(info_path, url, driver):\n",
    "#def autofill(info_path, link, driver):\n",
    "    info = {}\n",
    "    new_info = {}\n",
    "    with open(info_path, 'r', newline='') as csvfile:\n",
    "        reader = csv.reader(csvfile)\n",
    "        for row in reader:\n",
    "            info.update({row[0]: row[1]})\n",
    "            \n",
    "    driver.get(url)\n",
    "    try:\n",
    "        driver.switch_to.frame(driver.find_element(By.TAG_NAME, \"iframe\"))\n",
    "        if len(get_input_elements(driver)) == 0:\n",
    "            driver.switch_to.default_content()\n",
    "    except:\n",
    "        pass \n",
    "    \n",
    "    # text input\n",
    "    in_elements = get_input_elements(driver)\n",
    "    for elem in in_elements:\n",
    "        question = get_label(elem)\n",
    "        if question == \"\":\n",
    "            continue\n",
    "        highlight(driver, elem, 'pink')\n",
    "        if question in info.keys():\n",
    "            answer = info[question]\n",
    "        else:\n",
    "            answer = input(f\"{question}: \")\n",
    "            new_info[question] = answer\n",
    "            \n",
    "        try:\n",
    "            elem.send_keys(answer)\n",
    "            highlight(driver, elem)\n",
    "        except:\n",
    "            highlight(driver, elem, 'Salmon')\n",
    "\n",
    "    \n",
    "    # drop down\n",
    "    select_elements = get_select_elements(driver)\n",
    "    for elem in select_elements:\n",
    "        question = get_label(elem)\n",
    "        if question == \"\":\n",
    "            continue\n",
    "        highlight(driver, elem, 'pink')\n",
    "        options = get_options(elem)\n",
    "        options_dict = {}\n",
    "        for i in range(len(options)):\n",
    "            options_dict[options[i]] = i\n",
    "        if 'legally authorized' in question:\n",
    "            answer = info['authorization']\n",
    "        elif 'sponsorship' in question:\n",
    "            answer = info['sponsorship']\n",
    "        elif question in info.keys():\n",
    "            answer = info[question]\n",
    "        else:\n",
    "            index = int(input(f\"{question}: {options_dict}\"))\n",
    "            for item in options_dict.items():\n",
    "                if item[1] == index:\n",
    "                    answer = item[0]\n",
    "                    new_info[question] = answer\n",
    "                    break\n",
    "        \n",
    "        if answer in options_dict.keys():\n",
    "            index = options_dict[answer]\n",
    "        else:\n",
    "            index = int(input(f\"{question}: {options_dict}\"))\n",
    "            if index == -1:\n",
    "                continue\n",
    "        try:\n",
    "            drop = Select(elem)\n",
    "            drop.select_by_index(index)\n",
    "            highlight(driver, elem)\n",
    "        except:\n",
    "            highlight(driver, elem, 'Salmon')\n",
    "\n",
    "    with open(info_path, 'a+', newline='') as csvfile:\n",
    "        writer = csv.writer(csvfile, delimiter=',')\n",
    "        for item in new_info.items():\n",
    "            writer.writerow([item[0], item[1]])"
   ]
  },
  {
   "cell_type": "code",
   "execution_count": null,
   "id": "99d2b036",
   "metadata": {},
   "outputs": [],
   "source": []
  },
  {
   "cell_type": "code",
   "execution_count": null,
   "id": "6e6209a0",
   "metadata": {},
   "outputs": [],
   "source": []
  },
  {
   "cell_type": "code",
   "execution_count": null,
   "id": "445e3d3b",
   "metadata": {},
   "outputs": [],
   "source": []
  },
  {
   "cell_type": "code",
   "execution_count": null,
   "id": "f60ad989",
   "metadata": {},
   "outputs": [],
   "source": []
  },
  {
   "cell_type": "markdown",
   "id": "965a7994",
   "metadata": {},
   "source": [
    "# Testing"
   ]
  },
  {
   "cell_type": "markdown",
   "id": "3cf93b07",
   "metadata": {},
   "source": [
    "https://careers-milbank.icims.com/jobs/1224/legal-assistant-entry-level--ny/candidate?from=login&eem=MHNWjSX2GnEPAL1EYlzDnhNYUrV8ph1lZUlhT%252BM1qIxQ%252BoOTlVd2vx3bSRWvVu1o&code=93d3f900bc8ef3186b3dc3984743817a2157bd7fd5173096c218561a33b36140&ga=a43fcaf627f8cb3a5793c18b381b90eea4860392d3bb4cece643741a6e4d4362  \n",
    "https://www.guidepoint.com/job/6009703002/?gh_jid=6009703002  \n",
    "https://boards.greenhouse.io/anaplan/jobs/6143350002#application  "
   ]
  },
  {
   "cell_type": "code",
   "execution_count": 30,
   "id": "38b56f40",
   "metadata": {},
   "outputs": [],
   "source": [
    "links = [\"https://careers-milbank.icims.com/jobs/1224/legal-assistant-entry-level--ny/candidate?from=login&eem=MHNWjSX2GnEPAL1EYlzDnhNYUrV8ph1lZUlhT%252BM1qIxQ%252BoOTlVd2vx3bSRWvVu1o&code=93d3f900bc8ef3186b3dc3984743817a2157bd7fd5173096c218561a33b36140&ga=a43fcaf627f8cb3a5793c18b381b90eea4860392d3bb4cece643741a6e4d4362&mobile=false&width=1020&height=500&bga=true&needsRedirect=false&jan1offset=-300&jun1offset=-240\",\n",
    "        \"https://www.guidepoint.com/job/6009703002/?gh_jid=6009703002\",\n",
    "        \"https://boards.greenhouse.io/anaplan/jobs/5990560002#application\",\n",
    "        'https://jobs.lever.co/hive/4ee4ed80-13a9-4205-9d58-5a06ee884543/apply']"
   ]
  },
  {
   "cell_type": "code",
   "execution_count": 29,
   "id": "e5825fc2",
   "metadata": {},
   "outputs": [
    {
     "name": "stdout",
     "output_type": "stream",
     "text": [
      "\n"
     ]
    }
   ],
   "source": [
    "driver = get_driver()"
   ]
  },
  {
   "cell_type": "code",
   "execution_count": 55,
   "id": "a80c02b5",
   "metadata": {},
   "outputs": [],
   "source": [
    "autofill('info.csv', links[3], driver)"
   ]
  },
  {
   "cell_type": "code",
   "execution_count": null,
   "id": "00a39bd5",
   "metadata": {},
   "outputs": [],
   "source": []
  },
  {
   "cell_type": "code",
   "execution_count": null,
   "id": "4e3cb0d2",
   "metadata": {},
   "outputs": [],
   "source": []
  },
  {
   "cell_type": "code",
   "execution_count": null,
   "id": "bf20ca72",
   "metadata": {},
   "outputs": [],
   "source": []
  },
  {
   "cell_type": "code",
   "execution_count": null,
   "id": "4e2bc4c3",
   "metadata": {},
   "outputs": [],
   "source": []
  },
  {
   "cell_type": "code",
   "execution_count": null,
   "id": "44f929ab",
   "metadata": {},
   "outputs": [],
   "source": []
  },
  {
   "cell_type": "code",
   "execution_count": null,
   "id": "c6cadb47",
   "metadata": {},
   "outputs": [],
   "source": []
  },
  {
   "cell_type": "code",
   "execution_count": null,
   "id": "113fc7fe",
   "metadata": {},
   "outputs": [],
   "source": []
  },
  {
   "cell_type": "code",
   "execution_count": null,
   "id": "0254a7a6",
   "metadata": {},
   "outputs": [],
   "source": []
  }
 ],
 "metadata": {
  "kernelspec": {
   "display_name": "Python 3 (ipykernel)",
   "language": "python",
   "name": "python3"
  },
  "language_info": {
   "codemirror_mode": {
    "name": "ipython",
    "version": 3
   },
   "file_extension": ".py",
   "mimetype": "text/x-python",
   "name": "python",
   "nbconvert_exporter": "python",
   "pygments_lexer": "ipython3",
   "version": "3.9.12"
  }
 },
 "nbformat": 4,
 "nbformat_minor": 5
}
